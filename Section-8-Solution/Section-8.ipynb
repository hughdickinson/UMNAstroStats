{
 "cells": [
  {
   "cell_type": "markdown",
   "metadata": {},
   "source": [
    "# Section 8"
   ]
  },
  {
   "cell_type": "markdown",
   "metadata": {},
   "source": [
    "## Preliminaries\n",
    "\n",
    "### Data Sources\n",
    "This repository contains two files named `radioflat.txt` and `radiosteep.txt`, which you will need for the excercises in this section. "
   ]
  },
  {
   "cell_type": "markdown",
   "metadata": {},
   "source": [
    "## Assignment\n",
    "\n",
    "Complete the following problems. Use code cells to develop and run any Python code required and Markdown cells to respond to any auxilliary questions that ask you to interpret your results.\n",
    "\n",
    "### Exercise 1 (AST4031 & AST5031):\n",
    "\n",
    "[Masson & Wall (1977)](http://adsabs.harvard.edu/abs/1977MNRAS.180..193M) examined the luminosity functions of so-called flat and steep radio spectrum quasars to study the cosmological evolution of these objects. Today you'll perform your own assessment on whether or not these two samples come from the same parent distribution. The data for their simple source count distributions are available below for both the steep and flat spectrum quasars in their study.\n",
    "1. Write your own functions to compute data binning according to Scott's Rule and the Freedman-Diaconis Rule. Compare the data binned according to these rules to matplotlib's default binning. Choose a binning strategy and explain your choice.\n",
    "2. Plot the frequency histograms for the steep spectrum and flat spectrum quasars. Include error bars in your plot. Discuss your calculation of the errors.\n",
    "3. Comment qualitatively on the relative appearance of these 2 histograms.\n",
    "4. Plot the cumulative frequency distributions of the two samples.\n",
    "5. Use scipy's 2-sample Kolmogorov-Smirnov test to quantitatively address whether the parent distributions of these 2 object classes are the same.\n",
    "6. Use scipy's $U$ test to compare the 2 samples and address whether the parent distributions of these 2 object classes are the same. How does this test compare with the answer from the Kolmogorov-Smirnov test?"
   ]
  },
  {
   "cell_type": "code",
   "execution_count": 1,
   "metadata": {},
   "outputs": [],
   "source": [
    "import numpy as np\n",
    "import astropy as ap\n",
    "import astropy.io.ascii as apascii\n",
    "\n",
    "import matplotlib\n",
    "import matplotlib.pyplot as mplplot\n",
    "\n",
    "import scipy.stats as spstats\n",
    "\n",
    "%matplotlib inline\n",
    "%load_ext lab_black"
   ]
  },
  {
   "cell_type": "markdown",
   "metadata": {},
   "source": [
    "Let's start by reading in the data. Since they're stored in text files we'll use the [`astropy.ascii.read` function](http://docs.astropy.org/en/stable/api/astropy.io.ascii.read.html) to parse the data directly into `astropy.table.Table` data structures.\n",
    "\n",
    "We'll keep the tables in a dict so that we can reference the data easily by quasar type i.e. _steep_ or _flat_ spectrum."
   ]
  },
  {
   "cell_type": "code",
   "execution_count": 2,
   "metadata": {},
   "outputs": [],
   "source": [
    "quasarData = {}\n",
    "quasarData[\"flat\"] = apascii.read(\n",
    "    \"radioflat.txt\", data_start=0, names=[\"b_mag\"]\n",
    ")\n",
    "quasarData[\"steep\"] = apascii.read(\n",
    "    \"radiosteep.txt\", data_start=0, names=[\"b_mag\"]\n",
    ")"
   ]
  },
  {
   "cell_type": "markdown",
   "metadata": {},
   "source": [
    "One of our data files has a spurious, zero-valued magnitude as its final entry. A magnitude of zero would imply an extremely bright object. This highlights the importance of checking the validity of our data before analysing it. Now we can filter out any magnitudes brighter than zero before proceeding to plot our data."
   ]
  },
  {
   "cell_type": "code",
   "execution_count": 3,
   "metadata": {},
   "outputs": [
    {
     "data": {
      "image/png": "[encoded data removed]",
      "text/plain": [
       "<Figure size 576x576 with 1 Axes>"
      ]
     },
     "metadata": {
      "needs_background": "light"
     },
     "output_type": "display_data"
    }
   ],
   "source": [
    "quasarData[\"flat\"][\"b_mag\"] = quasarData[\"flat\"][\"b_mag\"][\n",
    "    quasarData[\"flat\"][\"b_mag\"] > 0\n",
    "]\n",
    "quasarData[\"steep\"][\"b_mag\"] = quasarData[\"steep\"][\"b_mag\"][\n",
    "    quasarData[\"steep\"][\"b_mag\"] > 0\n",
    "]\n",
    "\n",
    "plotDataAxes = mplplot.figure(figsize=(8, 8)).add_subplot(1, 1, 1)\n",
    "\n",
    "for enumerator, quasarType in enumerate(quasarData.keys()):\n",
    "    plotDataAxes.hist(\n",
    "        quasarData[quasarType][\"b_mag\"],\n",
    "        bins=20,\n",
    "        label=quasarType.title(),\n",
    "        alpha=0.5,\n",
    "        fc=\"C{}\".format(enumerator),\n",
    "    )\n",
    "    plotDataAxes.hist(\n",
    "        quasarData[quasarType][\"b_mag\"],\n",
    "        bins=20,\n",
    "        histtype=\"step\",\n",
    "        ec=\"C{}\".format(enumerator),\n",
    "        label=None,\n",
    "    )\n",
    "\n",
    "plotDataAxes.set_xlabel(\"B magnitude\", fontsize=\"x-large\")\n",
    "plotDataAxes.set_ylabel(\"Number of quasars\", fontsize=\"x-large\")\n",
    "plotDataAxes.legend()\n",
    "mplplot.tight_layout()"
   ]
  },
  {
   "cell_type": "markdown",
   "metadata": {},
   "source": [
    "We'll define two functions that implement the _Freedman Draconis_ and _Scott_ binning methods that were specified in the lectures. These functions will return an array of bin boundaries that conform with the corresponding binning rule. "
   ]
  },
  {
   "cell_type": "code",
   "execution_count": 4,
   "metadata": {},
   "outputs": [],
   "source": [
    "def freedmanDraconisBins(data):\n",
    "    percentiles = np.percentile(q=[25, 75], a=data)\n",
    "    binWidth = 2.0 * np.diff(percentiles)[0] / np.cbrt(data.size)\n",
    "    bins = np.arange(start=data.min(), stop=data.max(), step=binWidth)\n",
    "    ## Must add one more boundary beyond the range of the data.\n",
    "    bins = np.append(bins, bins[-1] + binWidth)\n",
    "    return bins\n",
    "\n",
    "\n",
    "def scottBins(data):\n",
    "    binWidth = 3.5 * data.std() / np.cbrt(data.size)\n",
    "    bins = np.arange(start=data.min(), stop=data.max(), step=binWidth)\n",
    "    bins = np.append(bins, bins[-1] + binWidth)\n",
    "    ## Must add one more boundary beyond the range of the data.\n",
    "    return bins"
   ]
  },
  {
   "cell_type": "markdown",
   "metadata": {},
   "source": [
    "Now we'll create some data structures to provide easy access to our plotting functions, data, histograms and error intervals. This will make out plotting code more streamlined!\n",
    "\n",
    "Note that we can use [`dict` comprehensions](https://www.datacamp.com/community/tutorials/python-dictionary-comprehension) to quickly generate new dictionaries using the structure of existing ones."
   ]
  },
  {
   "cell_type": "code",
   "execution_count": 5,
   "metadata": {},
   "outputs": [],
   "source": [
    "binningFunctions = {\n",
    "    \"SR\": scottBins,\n",
    "    \"FD\": freedmanDraconisBins,\n",
    "    \"MPL\": lambda data: 10,\n",
    "}\n",
    "\n",
    "binningSpecs = {\n",
    "    \"flat\": {key: None for key in binningFunctions.keys()},\n",
    "    \"steep\": {key: None for key in binningFunctions.keys()},\n",
    "}\n",
    "\n",
    "histograms = {\n",
    "    \"flat\": {key: None for key in binningFunctions.keys()},\n",
    "    \"steep\": {key: None for key in binningFunctions.keys()},\n",
    "}\n",
    "\n",
    "intervals = {\n",
    "    \"flat\": {key: None for key in binningFunctions.keys()},\n",
    "    \"steep\": {key: None for key in binningFunctions.keys()},\n",
    "}\n",
    "\n",
    "## Compute and store the bin boundaries for each binning method\n",
    "for quasarType, binningSpec in binningSpecs.items():\n",
    "    for binningAlgorithm in binningSpec.keys():\n",
    "        binningSpec[binningAlgorithm] = binningFunctions[binningAlgorithm](\n",
    "            quasarData[quasarType][\"b_mag\"]\n",
    "        )"
   ]
  },
  {
   "cell_type": "markdown",
   "metadata": {},
   "source": [
    "Now we can plot the distribution of B magintude for _flat_ and _steep_ spectrum quasars using the three binning methods, including the matplotlib default of 10 bins.\n",
    "\n",
    "The number of galaxies in each bin is small enough that Poisson intervals are appropriate estimates of the bin contents. We devoted a whole previous section to the calculation of Poisson intervals. For this excercise, we'll jsut use the `interval` method of the `spstats.poisson` class. The method returns an upper and lower bound on the true frequency of events in the binning interval when supplied with the measured value of the bin contents. Note that some manipulation is needed to plot the errors, which `matplotlib` expects to be provided as offsets from the central value (bin contents)."
   ]
  },
  {
   "cell_type": "code",
   "execution_count": 6,
   "metadata": {},
   "outputs": [
    {
     "data": {
      "image/png": "[encoded data removed]",
      "text/plain": [
       "<Figure size 1152x576 with 2 Axes>"
      ]
     },
     "metadata": {
      "needs_background": "light"
     },
     "output_type": "display_data"
    }
   ],
   "source": [
    "magBinningFigureShape = np.array([len(binningSpecs), 1])\n",
    "magBinningFigure, magBinningPanels = mplplot.subplots(\n",
    "    figsize=magBinningFigureShape * 8,\n",
    "    nrows=magBinningFigureShape[1],\n",
    "    ncols=magBinningFigureShape[0],\n",
    ")\n",
    "\n",
    "for magBinningPanel, (quasarType, quasarMagnitudes) in zip(\n",
    "    magBinningPanels, quasarData.items()\n",
    "):\n",
    "    for enumerator, (binningAlgorithm, binningSpec) in enumerate(\n",
    "        binningSpecs[quasarType].items()\n",
    "    ):\n",
    "        colourSpec = \"C{}\".format(enumerator)\n",
    "        magBinningPanel.hist(\n",
    "            quasarMagnitudes[\"b_mag\"],\n",
    "            bins=binningSpec,\n",
    "            label=binningAlgorithm,\n",
    "            alpha=0.2,\n",
    "            fc=colourSpec,\n",
    "            density=False,\n",
    "        )\n",
    "        histograms[quasarType][\n",
    "            binningAlgorithm\n",
    "        ], bins, _ = magBinningPanel.hist(\n",
    "            quasarMagnitudes[\"b_mag\"],\n",
    "            bins=binningSpec,\n",
    "            histtype=\"step\",\n",
    "            label=None,\n",
    "            ec=colourSpec,\n",
    "            density=False,\n",
    "        )\n",
    "\n",
    "        intervals[quasarType][binningAlgorithm] = spstats.poisson(\n",
    "            mu=histograms[quasarType][binningAlgorithm]\n",
    "        ).interval(alpha=0.68)\n",
    "\n",
    "        binCentres = 0.5 * (bins[:-1] + bins[1:])\n",
    "\n",
    "        errors = (\n",
    "            histograms[quasarType][binningAlgorithm]\n",
    "            - intervals[quasarType][binningAlgorithm][0],\n",
    "            intervals[quasarType][binningAlgorithm][1]\n",
    "            - histograms[quasarType][binningAlgorithm],\n",
    "        )\n",
    "\n",
    "        magBinningPanel.errorbar(\n",
    "            binCentres,\n",
    "            histograms[quasarType][binningAlgorithm],\n",
    "            yerr=errors,\n",
    "            ls=\"none\",\n",
    "            marker=\"o\",\n",
    "            c=colourSpec,\n",
    "        )\n",
    "\n",
    "    magBinningPanel.legend(fontsize=\"x-large\")\n",
    "    magBinningPanel.set_title(\"{} Spectrum Quasars\".format(quasarType.title()))"
   ]
  },
  {
   "cell_type": "markdown",
   "metadata": {},
   "source": [
    "For the flat-spectrum quasars, the overall distribution is quite symmetric and continuous. All binning methods perform reasonably well. For steep spectrum quasars the distribution is skewed and more sparse. The Freedman-Draconis rule achieves the best trade-off between representing the data and achieving a good signal-to-noise ratio."
   ]
  },
  {
   "cell_type": "markdown",
   "metadata": {},
   "source": [
    "We can write a very simple function to compute the CDF (or technically the EDF) of a data array. We simply sort our input array, then use the [`numpy.cumsum` function](https://docs.scipy.org/doc/numpy/reference/generated/numpy.cumsum.html) to compute the cumulative sum, starting from the lowest value, before normalizing by the sum of the values in the array."
   ]
  },
  {
   "cell_type": "code",
   "execution_count": 7,
   "metadata": {},
   "outputs": [],
   "source": [
    "def computeCDF(data):\n",
    "    sortedData = np.sort(np.array(data).astype(float))\n",
    "    cdf = np.cumsum(sortedData) / np.sum(sortedData)\n",
    "    return sortedData, cdf"
   ]
  },
  {
   "cell_type": "markdown",
   "metadata": {},
   "source": [
    "Now we can plot the CDF/EDF for each quasar type, we'll plot the CDF/EDF of the other type for reference and indicate the abscissae locations for the data along the _B magintude_ axis. "
   ]
  },
  {
   "cell_type": "code",
   "execution_count": 8,
   "metadata": {},
   "outputs": [
    {
     "data": {
      "image/png": "[encoded data removed]",
      "text/plain": [
       "<Figure size 1152x576 with 2 Axes>"
      ]
     },
     "metadata": {
      "needs_background": "light"
     },
     "output_type": "display_data"
    }
   ],
   "source": [
    "cdfFigure, cdfPanels = mplplot.subplots(\n",
    "    figsize=magBinningFigureShape * 8,\n",
    "    nrows=magBinningFigureShape[1],\n",
    "    ncols=magBinningFigureShape[0],\n",
    ")\n",
    "\n",
    "quasarCdfs = {\n",
    "    quasarType: computeCDF(quasarMagnitudes)\n",
    "    for quasarType, quasarMagnitudes in quasarData.items()\n",
    "}\n",
    "\n",
    "for cdfPanel, (quasarType, quasarCdf) in zip(cdfPanels, quasarCdfs.items()):\n",
    "    cdfPanel.step(*quasarCdf, label=quasarType.title(), where=\"post\", lw=2)\n",
    "    cdfPanel.scatter(\n",
    "        np.sort(np.array(quasarData[quasarType][\"b_mag\"]).astype(float)),\n",
    "        np.zeros_like(np.array(quasarData[quasarType][\"b_mag\"]).astype(float)),\n",
    "        marker=\"+\",\n",
    "    )\n",
    "    cdfPanel.axhline(y=0, color=\"grey\", lw=0.5)\n",
    "\n",
    "    cdfPanel.legend(fontsize=\"x-large\")\n",
    "    cdfPanel.set_xlabel(\"B magnitude\", fontsize=\"x-large\")\n",
    "    cdfPanel.set_ylabel(\"CDF\", fontsize=\"x-large\")\n",
    "\n",
    "for cdfPanel, (quasarType, quasarCdf) in zip(\n",
    "    np.flipud(cdfPanels), quasarCdfs.items()\n",
    "):\n",
    "    cdfPanel.step(\n",
    "        *quasarCdf, label=quasarType.title(), where=\"post\", linestyle=\"dotted\"\n",
    "    )\n",
    "\n",
    "    cdfPanel.legend(fontsize=\"x-large\")\n",
    "    cdfPanel.set_xlabel(\"B magnitude\", fontsize=\"x-large\")\n",
    "    cdfPanel.set_ylabel(\"CDF\", fontsize=\"x-large\")"
   ]
  },
  {
   "cell_type": "markdown",
   "metadata": {},
   "source": [
    "### How to implement two-sample Kolmogorov Smirnoff test\n",
    "The two-sample Kolmogorov Smirnoff test compares the _empirical distribution functions_ (EDFs, $F_{1,n}$, $F_{2,m}$) of two data samples (with sizes $m$ and $n$) to detemine whether the _null hypothesis_ - that both samples are drawn from the same parent population - is likely to be true. The test proceeds by computing the maximum absolute difference between the EDFs \n",
    "\\begin{equation}\n",
    "\\displaystyle D_{n,m}=\\sup_{x}|F_{1,n}(x)-F_{2,m}(x)|\n",
    "\\end{equation}\n",
    "Extreme values of $D_{n,m}$ imply that the _null hypothesis_ ($H_{0}$) is **false** and that the two samples are drawn from **different** parent populations. Specifically, the $H_{0}$ can be rejected with significance level $\\alpha$ if\n",
    "\\begin{equation}\n",
    "D_{n,m}>c(\\alpha){\\sqrt {\\frac {n+m}{nm}}}\n",
    "\\end{equation}\n",
    "where \n",
    "\\begin{equation}\n",
    "c(\\alpha)\\approx\\sqrt{-\\frac{1}{2}\\ln\\alpha}\n",
    "\\end{equation}\n",
    "\n",
    "We now require an algorithm to compute $D_{n,m}$, given $F_{1,n}$ and $F_{2,m}$. Assuming that our data samples, $X_{1,n}$ and $X_{2,m}$ are sorted, a common approach (in fact the one used by `scipy` in its implementation) begins by forming the **sorted union** ($X_{1,n} \\cup X_{2,m}$) of the separate samples. \n",
    "\n",
    "Now, for each value $x_{i}$ in $X_{1,n} \\cup X_{2,m}$, we find the **largest indices** $z_{1,i}$ and $z_{2,i}$ into $X_{1,n}$ and $X_{2,m}$ respectively, at which $x_{i}$ could be inserted to yeild modified arrays $X\\prime_{1,n+1}$ and $X\\prime_{2,m+1}$ that remains sorted. This process is used to generate two arrays of indices, $Z_{1,n+m}$ and $Z_{2,n+m}$ with the same number of elements as the union array and (potentially repeated) entries drawn from the indices of $X_{1,n}$ and $X_{2,m}$. Consider the following example:\n",
    "\n",
    "\\begin{align}\n",
    "&X_{1,n} = \\{1,2,3,4,5,6,7,8,9,10\\},\\,n=10\\\\\n",
    "&X_{2,n} = \\{1,2,3,5,7,11,13,17,19\\},\\,m=9\\\\\n",
    "\\implies& X_{1,n} \\cup X_{2,m} = \\{1,1,2,2,3,4,5,5,6,7,7,8,9,10,11,13,17,19\\}\\\\\n",
    "\\end{align}\n",
    "This yields the following arrays of insertion indices, starting from zero and remembering that we want the *highest* possible index.\n",
    "\\begin{align}\n",
    "&Z_{1,n+m} = \\{1,1,2,2,3,4,5,5,6,7,7,8,9,10,10,10,10,10\\}\\\\\n",
    "&Z_{2,n+m} = \\{1,1,2,2,3,3,4,4,4,5,5,5,5,5,6,7,8,9\\}\n",
    "\\end{align}\n",
    "\n",
    "The elements of $Z_{1,n+m}$ and $Z_{2,n+m}$ count the number of elements in $X_{1,n}$ and $X_{2,m}$ with values strictly less than the corresponding entry in $X_{1,n} \\cup X_{2,m}$. If we normalize $Z_{1,n+m}$ and $Z_{2,n+m}$ by $n$ and $m$ respectively then we have computed the values of the EDFs of $X_{1,n}$ and $X_{2,m}$ at the abscissa of the corresponding entry in $X_{1,n} \\cup X_{2,m}$. The reason this works is that only the **ordering**, and the **overall sum** of the sample abscissae matter when calculating the EDF, the specific **values** of the **individual** EDF abscissae aren't important.\n",
    "\\begin{align}\n",
    "&\\frac{Z_{1,n+m}}{n} = \\{1/10,1/10,2/10,2/10,3/10,4/10,5/10,5/10,6/10,7/10,7/10,8/10,9/10,10/10,10/10,10/10,10/10,10/10\\}\\\\\n",
    "&\\frac{Z_{2,n+m}}{m} = \\{1/9,1/9,2/9,2/9,3/9,3/9,4/9,4/9,4/9,5/9,5/9,5/9,5/9,5/9,6/9,7/9,8/9,9/9\\}\n",
    "\\end{align}\n",
    "\n",
    "Now we can simply subtract the two normalized arrays and find the maximum absolute difference - easy!\n",
    "\n",
    "\\begin{equation}\n",
    "D_{n,m}=\\sup_{x}|F_{1,n}(x)-F_{2,m}(x)| = \\max\\left|\\frac{Z_{1,n+m}}{n} - \\frac{Z_{2,n+m}}{m}\\right|\n",
    "\\end{equation}\n",
    "\n",
    "It's not difficult to write an algorithm to find the inertion indices $Z_{1,n+m}$ and $Z_{2,n+m}$ but the `scipy` implementation uses `numpy`'s [`searchsorted` function](https://docs.scipy.org/doc/numpy/reference/generated/numpy.searchsorted.html) for efficiency.\n",
    "\n",
    "After all that, we can just use the [`scipy.stats.ks_2samp` function](https://docs.scipy.org/doc/scipy/reference/generated/scipy.stats.ks_2samp.html) to compute the Kolmogorov statistic and significance level for our data."
   ]
  },
  {
   "cell_type": "code",
   "execution_count": 9,
   "metadata": {},
   "outputs": [
    {
     "name": "stdout",
     "output_type": "stream",
     "text": [
      "Ks_2sampResult(statistic=0.30890269151138716, pvalue=0.018224112861272748)\n"
     ]
    }
   ],
   "source": [
    "ksResult = spstats.ks_2samp(*quasarData.values())\n",
    "print(ksResult)"
   ]
  },
  {
   "cell_type": "markdown",
   "metadata": {},
   "source": [
    "The $p$-value returned by `ks_2samp` indicates that under the null hypothesis that both samples were drawn from the same parent population, there is less than a 2% chance of observing a Kolmogorov statistic value greatar than or equal to that which was derived. This is strong evidence that the _B magnitude_ distributions of the two quasar types are not drawn from the same parend distributions. "
   ]
  },
  {
   "cell_type": "markdown",
   "metadata": {},
   "source": [
    "For the final question, we'll use the `scipy.stats.mannwhitneyu` function to compute the $U$ statistic and the corresponding $p$-value for our data."
   ]
  },
  {
   "cell_type": "code",
   "execution_count": 10,
   "metadata": {},
   "outputs": [
    {
     "name": "stdout",
     "output_type": "stream",
     "text": [
      "MannwhitneyuResult(statistic=857.0, pvalue=0.008007259420657152)\n"
     ]
    }
   ],
   "source": [
    "uResult = spstats.mannwhitneyu(*quasarData.values())\n",
    "print(uResult)"
   ]
  },
  {
   "cell_type": "markdown",
   "metadata": {},
   "source": [
    "In this case the $p$-value is even smaller, reinforcing our original conclusion that the two samples are inconsistent with being drawn from the same parent distribution. Moreover, since we have seen that the two distribution shapes differ primarily in the extended tail of the _steep_-spectrum quasars, we should expect the $U$ test to be more powerful. The reliance of the KS test on the EDF makes it insensitive to differences in the tails of the distributions being compared."
   ]
  }
 ],
 "metadata": {
  "kernelspec": {
   "display_name": "Python 3",
   "language": "python",
   "name": "python3"
  },
  "language_info": {
   "codemirror_mode": {
    "name": "ipython",
    "version": 3
   },
   "file_extension": ".py",
   "mimetype": "text/x-python",
   "name": "python",
   "nbconvert_exporter": "python",
   "pygments_lexer": "ipython3",
   "version": "3.7.2"
  }
 },
 "nbformat": 4,
 "nbformat_minor": 2
}
